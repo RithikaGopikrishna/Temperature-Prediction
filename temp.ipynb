{
  "nbformat": 4,
  "nbformat_minor": 0,
  "metadata": {
    "colab": {
      "name": "temp.ipynb",
      "provenance": []
    },
    "kernelspec": {
      "name": "python3",
      "display_name": "Python 3"
    }
  },
  "cells": [
    {
      "cell_type": "code",
      "metadata": {
        "id": "A6BqA0TVwoFK",
        "colab_type": "code",
        "colab": {}
      },
      "source": [
        "import warnings\n",
        "warnings.filterwarnings('ignore')\n",
        "import os\n",
        "import numpy as np\n",
        "import pandas as pd\n",
        "from matplotlib import pyplot as plt\n",
        "%matplotlib inline\n",
        "\n",
        "\n",
        "import sklearn\n",
        "from sklearn.model_selection import train_test_split\n",
        "from sklearn.metrics import accuracy_score\n",
        "from sklearn.linear_model import LinearRegression\n",
        "\n",
        "import tensorflow as tf\n",
        "from tensorflow import keras\n",
        "from sklearn import preprocessing"
      ],
      "execution_count": 0,
      "outputs": []
    },
    {
      "cell_type": "code",
      "metadata": {
        "id": "lge9ODTsyMcC",
        "colab_type": "code",
        "colab": {}
      },
      "source": [
        "data = pd.read_csv('weather.csv')\n",
        "df = pd.DataFrame(data)"
      ],
      "execution_count": 0,
      "outputs": []
    },
    {
      "cell_type": "code",
      "metadata": {
        "id": "T0TPOP9FyQXB",
        "colab_type": "code",
        "outputId": "143bd7ac-fe11-4d06-bdea-84ac41e8d1a1",
        "colab": {
          "base_uri": "https://localhost:8080/",
          "height": 510
        }
      },
      "source": [
        "df.head()"
      ],
      "execution_count": 0,
      "outputs": [
        {
          "output_type": "execute_result",
          "data": {
            "text/html": [
              "<div>\n",
              "<style scoped>\n",
              "    .dataframe tbody tr th:only-of-type {\n",
              "        vertical-align: middle;\n",
              "    }\n",
              "\n",
              "    .dataframe tbody tr th {\n",
              "        vertical-align: top;\n",
              "    }\n",
              "\n",
              "    .dataframe thead th {\n",
              "        text-align: right;\n",
              "    }\n",
              "</style>\n",
              "<table border=\"1\" class=\"dataframe\">\n",
              "  <thead>\n",
              "    <tr style=\"text-align: right;\">\n",
              "      <th></th>\n",
              "      <th>Formatted Date</th>\n",
              "      <th>Summary</th>\n",
              "      <th>Precip Type</th>\n",
              "      <th>Temperature (C)</th>\n",
              "      <th>Apparent Temperature (C)</th>\n",
              "      <th>Humidity</th>\n",
              "      <th>Wind Speed (km/h)</th>\n",
              "      <th>Wind Bearing (degrees)</th>\n",
              "      <th>Visibility (km)</th>\n",
              "      <th>Loud Cover</th>\n",
              "      <th>Pressure (millibars)</th>\n",
              "      <th>Daily Summary</th>\n",
              "    </tr>\n",
              "  </thead>\n",
              "  <tbody>\n",
              "    <tr>\n",
              "      <th>0</th>\n",
              "      <td>2006-04-01 00:00:00.000 +0200</td>\n",
              "      <td>Partly Cloudy</td>\n",
              "      <td>rain</td>\n",
              "      <td>9.472222</td>\n",
              "      <td>7.388889</td>\n",
              "      <td>0.89</td>\n",
              "      <td>14.1197</td>\n",
              "      <td>251.0</td>\n",
              "      <td>15.8263</td>\n",
              "      <td>0.0</td>\n",
              "      <td>1015.13</td>\n",
              "      <td>Partly cloudy throughout the day.</td>\n",
              "    </tr>\n",
              "    <tr>\n",
              "      <th>1</th>\n",
              "      <td>2006-04-01 01:00:00.000 +0200</td>\n",
              "      <td>Partly Cloudy</td>\n",
              "      <td>rain</td>\n",
              "      <td>9.355556</td>\n",
              "      <td>7.227778</td>\n",
              "      <td>0.86</td>\n",
              "      <td>14.2646</td>\n",
              "      <td>259.0</td>\n",
              "      <td>15.8263</td>\n",
              "      <td>0.0</td>\n",
              "      <td>1015.63</td>\n",
              "      <td>Partly cloudy throughout the day.</td>\n",
              "    </tr>\n",
              "    <tr>\n",
              "      <th>2</th>\n",
              "      <td>2006-04-01 02:00:00.000 +0200</td>\n",
              "      <td>Mostly Cloudy</td>\n",
              "      <td>rain</td>\n",
              "      <td>9.377778</td>\n",
              "      <td>9.377778</td>\n",
              "      <td>0.89</td>\n",
              "      <td>3.9284</td>\n",
              "      <td>204.0</td>\n",
              "      <td>14.9569</td>\n",
              "      <td>0.0</td>\n",
              "      <td>1015.94</td>\n",
              "      <td>Partly cloudy throughout the day.</td>\n",
              "    </tr>\n",
              "    <tr>\n",
              "      <th>3</th>\n",
              "      <td>2006-04-01 03:00:00.000 +0200</td>\n",
              "      <td>Partly Cloudy</td>\n",
              "      <td>rain</td>\n",
              "      <td>8.288889</td>\n",
              "      <td>5.944444</td>\n",
              "      <td>0.83</td>\n",
              "      <td>14.1036</td>\n",
              "      <td>269.0</td>\n",
              "      <td>15.8263</td>\n",
              "      <td>0.0</td>\n",
              "      <td>1016.41</td>\n",
              "      <td>Partly cloudy throughout the day.</td>\n",
              "    </tr>\n",
              "    <tr>\n",
              "      <th>4</th>\n",
              "      <td>2006-04-01 04:00:00.000 +0200</td>\n",
              "      <td>Mostly Cloudy</td>\n",
              "      <td>rain</td>\n",
              "      <td>8.755556</td>\n",
              "      <td>6.977778</td>\n",
              "      <td>0.83</td>\n",
              "      <td>11.0446</td>\n",
              "      <td>259.0</td>\n",
              "      <td>15.8263</td>\n",
              "      <td>0.0</td>\n",
              "      <td>1016.51</td>\n",
              "      <td>Partly cloudy throughout the day.</td>\n",
              "    </tr>\n",
              "  </tbody>\n",
              "</table>\n",
              "</div>"
            ],
            "text/plain": [
              "                  Formatted Date  ...                      Daily Summary\n",
              "0  2006-04-01 00:00:00.000 +0200  ...  Partly cloudy throughout the day.\n",
              "1  2006-04-01 01:00:00.000 +0200  ...  Partly cloudy throughout the day.\n",
              "2  2006-04-01 02:00:00.000 +0200  ...  Partly cloudy throughout the day.\n",
              "3  2006-04-01 03:00:00.000 +0200  ...  Partly cloudy throughout the day.\n",
              "4  2006-04-01 04:00:00.000 +0200  ...  Partly cloudy throughout the day.\n",
              "\n",
              "[5 rows x 12 columns]"
            ]
          },
          "metadata": {
            "tags": []
          },
          "execution_count": 6
        }
      ]
    },
    {
      "cell_type": "code",
      "metadata": {
        "id": "wzhT7ICayR5g",
        "colab_type": "code",
        "outputId": "65c41242-45be-4159-af79-74c0e2814138",
        "colab": {
          "base_uri": "https://localhost:8080/",
          "height": 108
        }
      },
      "source": [
        "df.columns"
      ],
      "execution_count": 0,
      "outputs": [
        {
          "output_type": "execute_result",
          "data": {
            "text/plain": [
              "Index(['Formatted Date', 'Summary', 'Precip Type', 'Temperature (C)',\n",
              "       'Apparent Temperature (C)', 'Humidity', 'Wind Speed (km/h)',\n",
              "       'Wind Bearing (degrees)', 'Visibility (km)', 'Loud Cover',\n",
              "       'Pressure (millibars)', 'Daily Summary'],\n",
              "      dtype='object')"
            ]
          },
          "metadata": {
            "tags": []
          },
          "execution_count": 7
        }
      ]
    },
    {
      "cell_type": "code",
      "metadata": {
        "id": "xgzIfyy9yWdF",
        "colab_type": "code",
        "outputId": "3ca33ccd-e316-458f-fde4-65bfcc2eee7b",
        "colab": {
          "base_uri": "https://localhost:8080/",
          "height": 35
        }
      },
      "source": [
        "df.shape"
      ],
      "execution_count": 0,
      "outputs": [
        {
          "output_type": "execute_result",
          "data": {
            "text/plain": [
              "(96453, 12)"
            ]
          },
          "metadata": {
            "tags": []
          },
          "execution_count": 8
        }
      ]
    },
    {
      "cell_type": "code",
      "metadata": {
        "id": "jEtQHZJcyYvT",
        "colab_type": "code",
        "outputId": "b37f2175-f1cf-436a-8c28-5f30bd1532d8",
        "colab": {
          "base_uri": "https://localhost:8080/",
          "height": 291
        }
      },
      "source": [
        "df.describe"
      ],
      "execution_count": 0,
      "outputs": [
        {
          "output_type": "execute_result",
          "data": {
            "text/plain": [
              "<bound method NDFrame.describe of                       Formatted Date  ...                           Daily Summary\n",
              "0      2006-04-01 00:00:00.000 +0200  ...       Partly cloudy throughout the day.\n",
              "1      2006-04-01 01:00:00.000 +0200  ...       Partly cloudy throughout the day.\n",
              "2      2006-04-01 02:00:00.000 +0200  ...       Partly cloudy throughout the day.\n",
              "3      2006-04-01 03:00:00.000 +0200  ...       Partly cloudy throughout the day.\n",
              "4      2006-04-01 04:00:00.000 +0200  ...       Partly cloudy throughout the day.\n",
              "...                              ...  ...                                     ...\n",
              "96448  2016-09-09 19:00:00.000 +0200  ...  Partly cloudy starting in the morning.\n",
              "96449  2016-09-09 20:00:00.000 +0200  ...  Partly cloudy starting in the morning.\n",
              "96450  2016-09-09 21:00:00.000 +0200  ...  Partly cloudy starting in the morning.\n",
              "96451  2016-09-09 22:00:00.000 +0200  ...  Partly cloudy starting in the morning.\n",
              "96452  2016-09-09 23:00:00.000 +0200  ...  Partly cloudy starting in the morning.\n",
              "\n",
              "[96453 rows x 12 columns]>"
            ]
          },
          "metadata": {
            "tags": []
          },
          "execution_count": 9
        }
      ]
    },
    {
      "cell_type": "code",
      "metadata": {
        "id": "fcFKp5rpybPp",
        "colab_type": "code",
        "outputId": "642c66ea-88e1-49ac-ec38-e959d58d8a49",
        "colab": {
          "base_uri": "https://localhost:8080/",
          "height": 253
        }
      },
      "source": [
        "df.isnull().any()"
      ],
      "execution_count": 0,
      "outputs": [
        {
          "output_type": "execute_result",
          "data": {
            "text/plain": [
              "Formatted Date              False\n",
              "Summary                     False\n",
              "Precip Type                  True\n",
              "Temperature (C)             False\n",
              "Apparent Temperature (C)    False\n",
              "Humidity                    False\n",
              "Wind Speed (km/h)           False\n",
              "Wind Bearing (degrees)      False\n",
              "Visibility (km)             False\n",
              "Loud Cover                  False\n",
              "Pressure (millibars)        False\n",
              "Daily Summary               False\n",
              "dtype: bool"
            ]
          },
          "metadata": {
            "tags": []
          },
          "execution_count": 10
        }
      ]
    },
    {
      "cell_type": "code",
      "metadata": {
        "id": "A5BnO8nfyehh",
        "colab_type": "code",
        "outputId": "05ab0560-f595-4dce-81ba-3fd9a55ab0c4",
        "colab": {
          "base_uri": "https://localhost:8080/",
          "height": 72
        }
      },
      "source": [
        "df['Precip Type'].value_counts()"
      ],
      "execution_count": 0,
      "outputs": [
        {
          "output_type": "execute_result",
          "data": {
            "text/plain": [
              "rain    85224\n",
              "snow    10712\n",
              "Name: Precip Type, dtype: int64"
            ]
          },
          "metadata": {
            "tags": []
          },
          "execution_count": 11
        }
      ]
    },
    {
      "cell_type": "code",
      "metadata": {
        "id": "xNTp-GQRyhu7",
        "colab_type": "code",
        "colab": {}
      },
      "source": [
        "df.loc[df['Precip Type'].isnull(),'Precip Type']='rain'"
      ],
      "execution_count": 0,
      "outputs": []
    },
    {
      "cell_type": "code",
      "metadata": {
        "id": "fdmG3ZBFyjwg",
        "colab_type": "code",
        "colab": {}
      },
      "source": [
        "df.loc[df['Precip Type']=='rain','Precip Type']=1"
      ],
      "execution_count": 0,
      "outputs": []
    },
    {
      "cell_type": "code",
      "metadata": {
        "id": "7qT-wTgIyl9_",
        "colab_type": "code",
        "colab": {}
      },
      "source": [
        "df.loc[df['Precip Type']=='snow','Precip Type']=0"
      ],
      "execution_count": 0,
      "outputs": []
    },
    {
      "cell_type": "code",
      "metadata": {
        "id": "iPSv-7ZxynqG",
        "colab_type": "code",
        "outputId": "9b6b500c-6993-4137-9b3a-a17c5d4c7021",
        "colab": {
          "base_uri": "https://localhost:8080/",
          "height": 510
        }
      },
      "source": [
        "df.head()"
      ],
      "execution_count": 0,
      "outputs": [
        {
          "output_type": "execute_result",
          "data": {
            "text/html": [
              "<div>\n",
              "<style scoped>\n",
              "    .dataframe tbody tr th:only-of-type {\n",
              "        vertical-align: middle;\n",
              "    }\n",
              "\n",
              "    .dataframe tbody tr th {\n",
              "        vertical-align: top;\n",
              "    }\n",
              "\n",
              "    .dataframe thead th {\n",
              "        text-align: right;\n",
              "    }\n",
              "</style>\n",
              "<table border=\"1\" class=\"dataframe\">\n",
              "  <thead>\n",
              "    <tr style=\"text-align: right;\">\n",
              "      <th></th>\n",
              "      <th>Formatted Date</th>\n",
              "      <th>Summary</th>\n",
              "      <th>Precip Type</th>\n",
              "      <th>Temperature (C)</th>\n",
              "      <th>Apparent Temperature (C)</th>\n",
              "      <th>Humidity</th>\n",
              "      <th>Wind Speed (km/h)</th>\n",
              "      <th>Wind Bearing (degrees)</th>\n",
              "      <th>Visibility (km)</th>\n",
              "      <th>Loud Cover</th>\n",
              "      <th>Pressure (millibars)</th>\n",
              "      <th>Daily Summary</th>\n",
              "    </tr>\n",
              "  </thead>\n",
              "  <tbody>\n",
              "    <tr>\n",
              "      <th>0</th>\n",
              "      <td>2006-04-01 00:00:00.000 +0200</td>\n",
              "      <td>Partly Cloudy</td>\n",
              "      <td>1</td>\n",
              "      <td>9.472222</td>\n",
              "      <td>7.388889</td>\n",
              "      <td>0.89</td>\n",
              "      <td>14.1197</td>\n",
              "      <td>251.0</td>\n",
              "      <td>15.8263</td>\n",
              "      <td>0.0</td>\n",
              "      <td>1015.13</td>\n",
              "      <td>Partly cloudy throughout the day.</td>\n",
              "    </tr>\n",
              "    <tr>\n",
              "      <th>1</th>\n",
              "      <td>2006-04-01 01:00:00.000 +0200</td>\n",
              "      <td>Partly Cloudy</td>\n",
              "      <td>1</td>\n",
              "      <td>9.355556</td>\n",
              "      <td>7.227778</td>\n",
              "      <td>0.86</td>\n",
              "      <td>14.2646</td>\n",
              "      <td>259.0</td>\n",
              "      <td>15.8263</td>\n",
              "      <td>0.0</td>\n",
              "      <td>1015.63</td>\n",
              "      <td>Partly cloudy throughout the day.</td>\n",
              "    </tr>\n",
              "    <tr>\n",
              "      <th>2</th>\n",
              "      <td>2006-04-01 02:00:00.000 +0200</td>\n",
              "      <td>Mostly Cloudy</td>\n",
              "      <td>1</td>\n",
              "      <td>9.377778</td>\n",
              "      <td>9.377778</td>\n",
              "      <td>0.89</td>\n",
              "      <td>3.9284</td>\n",
              "      <td>204.0</td>\n",
              "      <td>14.9569</td>\n",
              "      <td>0.0</td>\n",
              "      <td>1015.94</td>\n",
              "      <td>Partly cloudy throughout the day.</td>\n",
              "    </tr>\n",
              "    <tr>\n",
              "      <th>3</th>\n",
              "      <td>2006-04-01 03:00:00.000 +0200</td>\n",
              "      <td>Partly Cloudy</td>\n",
              "      <td>1</td>\n",
              "      <td>8.288889</td>\n",
              "      <td>5.944444</td>\n",
              "      <td>0.83</td>\n",
              "      <td>14.1036</td>\n",
              "      <td>269.0</td>\n",
              "      <td>15.8263</td>\n",
              "      <td>0.0</td>\n",
              "      <td>1016.41</td>\n",
              "      <td>Partly cloudy throughout the day.</td>\n",
              "    </tr>\n",
              "    <tr>\n",
              "      <th>4</th>\n",
              "      <td>2006-04-01 04:00:00.000 +0200</td>\n",
              "      <td>Mostly Cloudy</td>\n",
              "      <td>1</td>\n",
              "      <td>8.755556</td>\n",
              "      <td>6.977778</td>\n",
              "      <td>0.83</td>\n",
              "      <td>11.0446</td>\n",
              "      <td>259.0</td>\n",
              "      <td>15.8263</td>\n",
              "      <td>0.0</td>\n",
              "      <td>1016.51</td>\n",
              "      <td>Partly cloudy throughout the day.</td>\n",
              "    </tr>\n",
              "  </tbody>\n",
              "</table>\n",
              "</div>"
            ],
            "text/plain": [
              "                  Formatted Date  ...                      Daily Summary\n",
              "0  2006-04-01 00:00:00.000 +0200  ...  Partly cloudy throughout the day.\n",
              "1  2006-04-01 01:00:00.000 +0200  ...  Partly cloudy throughout the day.\n",
              "2  2006-04-01 02:00:00.000 +0200  ...  Partly cloudy throughout the day.\n",
              "3  2006-04-01 03:00:00.000 +0200  ...  Partly cloudy throughout the day.\n",
              "4  2006-04-01 04:00:00.000 +0200  ...  Partly cloudy throughout the day.\n",
              "\n",
              "[5 rows x 12 columns]"
            ]
          },
          "metadata": {
            "tags": []
          },
          "execution_count": 15
        }
      ]
    },
    {
      "cell_type": "code",
      "metadata": {
        "id": "oh8L8umnysG5",
        "colab_type": "code",
        "colab": {}
      },
      "source": [
        "weather_df_num=df[list(df.dtypes[df.dtypes!='object'].index)]"
      ],
      "execution_count": 0,
      "outputs": []
    },
    {
      "cell_type": "code",
      "metadata": {
        "id": "00chCul8yvL-",
        "colab_type": "code",
        "colab": {}
      },
      "source": [
        "weather_y=weather_df_num.pop('Temperature (C)')"
      ],
      "execution_count": 0,
      "outputs": []
    },
    {
      "cell_type": "code",
      "metadata": {
        "id": "HK-IK2WCyx9P",
        "colab_type": "code",
        "colab": {}
      },
      "source": [
        "weather_X=weather_df_num"
      ],
      "execution_count": 0,
      "outputs": []
    },
    {
      "cell_type": "code",
      "metadata": {
        "id": "PUMyPwc6y1Qc",
        "colab_type": "code",
        "colab": {}
      },
      "source": [
        "train_X,test_X,train_y,test_y=train_test_split(weather_X,weather_y,test_size=0.2,random_state=4)"
      ],
      "execution_count": 0,
      "outputs": []
    },
    {
      "cell_type": "code",
      "metadata": {
        "id": "WpJsxtDxy3c_",
        "colab_type": "code",
        "outputId": "ccb9a979-4f9d-455d-8672-bd75a40867c8",
        "colab": {
          "base_uri": "https://localhost:8080/",
          "height": 215
        }
      },
      "source": [
        "train_X.head()"
      ],
      "execution_count": 0,
      "outputs": [
        {
          "output_type": "execute_result",
          "data": {
            "text/html": [
              "<div>\n",
              "<style scoped>\n",
              "    .dataframe tbody tr th:only-of-type {\n",
              "        vertical-align: middle;\n",
              "    }\n",
              "\n",
              "    .dataframe tbody tr th {\n",
              "        vertical-align: top;\n",
              "    }\n",
              "\n",
              "    .dataframe thead th {\n",
              "        text-align: right;\n",
              "    }\n",
              "</style>\n",
              "<table border=\"1\" class=\"dataframe\">\n",
              "  <thead>\n",
              "    <tr style=\"text-align: right;\">\n",
              "      <th></th>\n",
              "      <th>Apparent Temperature (C)</th>\n",
              "      <th>Humidity</th>\n",
              "      <th>Wind Speed (km/h)</th>\n",
              "      <th>Wind Bearing (degrees)</th>\n",
              "      <th>Visibility (km)</th>\n",
              "      <th>Loud Cover</th>\n",
              "      <th>Pressure (millibars)</th>\n",
              "    </tr>\n",
              "  </thead>\n",
              "  <tbody>\n",
              "    <tr>\n",
              "      <th>70626</th>\n",
              "      <td>21.061111</td>\n",
              "      <td>0.31</td>\n",
              "      <td>12.5580</td>\n",
              "      <td>110.0</td>\n",
              "      <td>16.1000</td>\n",
              "      <td>0.0</td>\n",
              "      <td>1005.87</td>\n",
              "    </tr>\n",
              "    <tr>\n",
              "      <th>52457</th>\n",
              "      <td>25.016667</td>\n",
              "      <td>0.36</td>\n",
              "      <td>18.4989</td>\n",
              "      <td>352.0</td>\n",
              "      <td>10.3523</td>\n",
              "      <td>0.0</td>\n",
              "      <td>1025.36</td>\n",
              "    </tr>\n",
              "    <tr>\n",
              "      <th>90690</th>\n",
              "      <td>0.738889</td>\n",
              "      <td>0.89</td>\n",
              "      <td>17.1304</td>\n",
              "      <td>270.0</td>\n",
              "      <td>15.8263</td>\n",
              "      <td>0.0</td>\n",
              "      <td>1014.75</td>\n",
              "    </tr>\n",
              "    <tr>\n",
              "      <th>69528</th>\n",
              "      <td>13.772222</td>\n",
              "      <td>0.78</td>\n",
              "      <td>14.4900</td>\n",
              "      <td>300.0</td>\n",
              "      <td>15.8263</td>\n",
              "      <td>0.0</td>\n",
              "      <td>1014.56</td>\n",
              "    </tr>\n",
              "    <tr>\n",
              "      <th>92419</th>\n",
              "      <td>23.288889</td>\n",
              "      <td>0.82</td>\n",
              "      <td>6.3917</td>\n",
              "      <td>357.0</td>\n",
              "      <td>16.1000</td>\n",
              "      <td>0.0</td>\n",
              "      <td>1022.05</td>\n",
              "    </tr>\n",
              "  </tbody>\n",
              "</table>\n",
              "</div>"
            ],
            "text/plain": [
              "       Apparent Temperature (C)  Humidity  ...  Loud Cover  Pressure (millibars)\n",
              "70626                 21.061111      0.31  ...         0.0               1005.87\n",
              "52457                 25.016667      0.36  ...         0.0               1025.36\n",
              "90690                  0.738889      0.89  ...         0.0               1014.75\n",
              "69528                 13.772222      0.78  ...         0.0               1014.56\n",
              "92419                 23.288889      0.82  ...         0.0               1022.05\n",
              "\n",
              "[5 rows x 7 columns]"
            ]
          },
          "metadata": {
            "tags": []
          },
          "execution_count": 20
        }
      ]
    },
    {
      "cell_type": "code",
      "metadata": {
        "id": "FiIxoBrzy5eH",
        "colab_type": "code",
        "outputId": "06427c59-8c93-41f7-efd1-4ca400c2f8c9",
        "colab": {
          "base_uri": "https://localhost:8080/",
          "height": 253
        }
      },
      "source": [
        "df.dtypes"
      ],
      "execution_count": 0,
      "outputs": [
        {
          "output_type": "execute_result",
          "data": {
            "text/plain": [
              "Formatted Date               object\n",
              "Summary                      object\n",
              "Precip Type                  object\n",
              "Temperature (C)             float64\n",
              "Apparent Temperature (C)    float64\n",
              "Humidity                    float64\n",
              "Wind Speed (km/h)           float64\n",
              "Wind Bearing (degrees)      float64\n",
              "Visibility (km)             float64\n",
              "Loud Cover                  float64\n",
              "Pressure (millibars)        float64\n",
              "Daily Summary                object\n",
              "dtype: object"
            ]
          },
          "metadata": {
            "tags": []
          },
          "execution_count": 21
        }
      ]
    },
    {
      "cell_type": "code",
      "metadata": {
        "id": "l3oA7y7Iy9GV",
        "colab_type": "code",
        "outputId": "95db220e-b8a5-4348-b9b7-d812bd15286e",
        "colab": {
          "base_uri": "https://localhost:8080/",
          "height": 35
        }
      },
      "source": [
        "model=LinearRegression()\n",
        "model.fit(train_X,train_y)"
      ],
      "execution_count": 0,
      "outputs": [
        {
          "output_type": "execute_result",
          "data": {
            "text/plain": [
              "LinearRegression(copy_X=True, fit_intercept=True, n_jobs=None, normalize=False)"
            ]
          },
          "metadata": {
            "tags": []
          },
          "execution_count": 22
        }
      ]
    },
    {
      "cell_type": "code",
      "metadata": {
        "id": "x57uPfjYy_nd",
        "colab_type": "code",
        "colab": {}
      },
      "source": [
        "prediction=model.predict(test_X) \n"
      ],
      "execution_count": 0,
      "outputs": []
    },
    {
      "cell_type": "code",
      "metadata": {
        "id": "siS5e27DzF2r",
        "colab_type": "code",
        "colab": {}
      },
      "source": [
        "#LinearRegression\n",
        "LR=np.mean((prediction-test_y)**2)"
      ],
      "execution_count": 0,
      "outputs": []
    },
    {
      "cell_type": "code",
      "metadata": {
        "id": "khfWquIurvxR",
        "colab_type": "code",
        "colab": {}
      },
      "source": [
        "def print_otp():\n",
        "  print(\"TEMPERATURE PREDICTION\")\n",
        "  print(\"----------------------\")\n",
        "  print(\"Model Used: Linear Regression\")\n",
        "  print(\"Model Loss:\",LR)\n",
        "  print(\"Temperature predicted for tomorrow: \", prediction[1])\n",
        "  print(\"----------------------\")\n",
        "  print(\"Model Used: Decision Tree Regression\")\n",
        "  print(\"Model Loss:\",Dt)\n",
        "  print(\"Temperature predicted for tomorrow: \", prediction3[1])"
      ],
      "execution_count": 0,
      "outputs": []
    },
    {
      "cell_type": "code",
      "metadata": {
        "id": "GVQjjD1X39lV",
        "colab_type": "code",
        "outputId": "d6f62626-cf59-4980-ffae-7008dd73a78e",
        "colab": {
          "base_uri": "https://localhost:8080/",
          "height": 126
        }
      },
      "source": [
        "from sklearn.tree import DecisionTreeRegressor\n",
        "regressor=DecisionTreeRegressor(random_state=0)\n",
        "regressor.fit(train_X,train_y)"
      ],
      "execution_count": 0,
      "outputs": [
        {
          "output_type": "execute_result",
          "data": {
            "text/plain": [
              "DecisionTreeRegressor(ccp_alpha=0.0, criterion='mse', max_depth=None,\n",
              "                      max_features=None, max_leaf_nodes=None,\n",
              "                      min_impurity_decrease=0.0, min_impurity_split=None,\n",
              "                      min_samples_leaf=1, min_samples_split=2,\n",
              "                      min_weight_fraction_leaf=0.0, presort='deprecated',\n",
              "                      random_state=0, splitter='best')"
            ]
          },
          "metadata": {
            "tags": []
          },
          "execution_count": 26
        }
      ]
    },
    {
      "cell_type": "code",
      "metadata": {
        "id": "WV5FhnVz4ERB",
        "colab_type": "code",
        "colab": {}
      },
      "source": [
        "prediction3=regressor.predict(test_X)\n",
        "#DecisionTreeRegression\n",
        "Dt=np.mean((prediction3-test_y)**2)"
      ],
      "execution_count": 0,
      "outputs": []
    },
    {
      "cell_type": "code",
      "metadata": {
        "id": "-MPPfkyezIq-",
        "colab_type": "code",
        "outputId": "833c3b3c-26e6-4d27-8d34-593aabeb8969",
        "colab": {
          "base_uri": "https://localhost:8080/",
          "height": 180
        }
      },
      "source": [
        "print_otp()"
      ],
      "execution_count": 0,
      "outputs": [
        {
          "output_type": "stream",
          "text": [
            "TEMPERATURE PREDICTION\n",
            "----------------------\n",
            "Model Used: Linear Regression\n",
            "Model Loss: 0.902274371188337\n",
            "Temperature predicted for tomorrow:  9.418530399794697\n",
            "----------------------\n",
            "Model Used: Decision Tree Regression\n",
            "Model Loss: 0.006723574480775507\n",
            "Temperature predicted for tomorrow:  8.855555555555554\n"
          ],
          "name": "stdout"
        }
      ]
    }
  ]
}